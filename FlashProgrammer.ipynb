{
 "cells": [
  {
   "cell_type": "markdown",
   "metadata": {},
   "source": [
    "# Setup User Interface\n",
    "\n",
    "https://nitratine.net/blog/post/python-gui-using-chrome/"
   ]
  },
  {
   "cell_type": "code",
   "execution_count": null,
   "metadata": {},
   "outputs": [],
   "source": [
    "#!sudo pip3 install eel\n",
    "# !pip install eel"
   ]
  },
  {
   "cell_type": "markdown",
   "metadata": {},
   "source": [
    "# UI"
   ]
  },
  {
   "cell_type": "code",
   "execution_count": 1,
   "metadata": {},
   "outputs": [
    {
     "name": "stdout",
     "output_type": "stream",
     "text": [
      "expose_to_js loaded\n",
      "No Dice!\n"
     ]
    },
    {
     "name": "stderr",
     "output_type": "stream",
     "text": [
      "KeyboardInterrupt\n",
      "2019-06-07T22:24:01Z\n"
     ]
    }
   ],
   "source": [
    "import eel\n",
    "import my_modules.expose_to_js\n",
    "\n",
    "\n",
    "my_options = {\n",
    "    'mode': \"chrome\", #or \"chrome-app\",\n",
    "    'host': 'localhost',\n",
    "    'port': 8080,\n",
    "}\n",
    "eel.init('web')\n",
    "eel.start('main.html', options=my_options, size=(100, 100))"
   ]
  },
  {
   "cell_type": "markdown",
   "metadata": {},
   "source": [
    "# Python Service Functions\n",
    "\n",
    "Dealing with bytes and strings: https://medium.com/@andreacolangelo/strings-unicode-and-bytes-in-python-3-everything-you-always-wanted-to-know-27dc02ff2686\n",
    "\n",
    "Using Subprocessed: https://www.sharats.me/posts/the-ever-useful-and-neat-subprocess-module/"
   ]
  },
  {
   "cell_type": "code",
   "execution_count": null,
   "metadata": {},
   "outputs": [],
   "source": [
    "# Test functions\n",
    "from my_modules.expose_to_js import (test, test2)\n",
    "\n",
    "test()\n",
    "test2()"
   ]
  },
  {
   "cell_type": "markdown",
   "metadata": {},
   "source": [
    "## Bootloader:"
   ]
  },
  {
   "cell_type": "code",
   "execution_count": 6,
   "metadata": {},
   "outputs": [
    {
     "name": "stdout",
     "output_type": "stream",
     "text": [
      "/usr/bin/esptool\n",
      "\n",
      "1\n"
     ]
    }
   ],
   "source": [
    "# Bootloader Test\n",
    "\n",
    "# import my_modules.expose_to_js\n",
    "from my_modules.boot_loader_runner import * \n",
    "esptool_location = '/usr/bin/esptool\\n'\n",
    "\n",
    "\n",
    "\n",
    "print(get_is_installed('esptool'))\n",
    "print(get_is_installed('jupyterx'))\n",
    "\n",
    "# xterm -geometry 60x150+5+5 -hold -title \n",
    "\n",
    "# 'Vue Init' -e $screen1\n",
    "get_terminal('xterm', 'ls')"
   ]
  },
  {
   "cell_type": "code",
   "execution_count": null,
   "metadata": {},
   "outputs": [],
   "source": [
    "# Test\n",
    "from my_modules.expose_to_js import *\n",
    "\n",
    "switcher = {\n",
    "#     'hello': test,\n",
    "    2: test2\n",
    "}\n",
    "\n",
    "func = switcher.get(2, lambda: 'No Dice')\n",
    "# func = switcher[2]\n",
    "func()\n",
    "print(func())"
   ]
  },
  {
   "cell_type": "code",
   "execution_count": 89,
   "metadata": {},
   "outputs": [
    {
     "name": "stdout",
     "output_type": "stream",
     "text": [
      "<_io.BufferedReader name=46>\n"
     ]
    }
   ],
   "source": [
    "import subprocess\n",
    "from subprocess import Popen, PIPE\n",
    "\n",
    "p = Popen(['xterm','-geometry', '60x150+5+5', '-e', 'ls; bash'], stdout=PIPE)\n",
    "# p.stdin\n",
    "\n",
    "\n",
    "# p = subprocess.Popen([\"echo\", \"hello poftut\"], stdout=subprocess.PIPE)\n",
    "# print(p.communicate())\n",
    "# p.args\n",
    "print(p.stdout)\n",
    "\n",
    "# print(p.communicate())"
   ]
  }
 ],
 "metadata": {
  "kernelspec": {
   "display_name": "Python 3",
   "language": "python",
   "name": "python3"
  },
  "language_info": {
   "codemirror_mode": {
    "name": "ipython",
    "version": 3
   },
   "file_extension": ".py",
   "mimetype": "text/x-python",
   "name": "python",
   "nbconvert_exporter": "python",
   "pygments_lexer": "ipython3",
   "version": "3.7.2"
  }
 },
 "nbformat": 4,
 "nbformat_minor": 2
}
