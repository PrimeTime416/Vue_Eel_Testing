{
 "cells": [
  {
   "cell_type": "markdown",
   "metadata": {},
   "source": [
    "# Setup User Interface\n",
    "\n",
    "https://nitratine.net/blog/post/python-gui-using-chrome/"
   ]
  },
  {
   "cell_type": "code",
   "execution_count": null,
   "metadata": {},
   "outputs": [],
   "source": [
    "#!sudo pip3 install eel\n",
    "# !pip install eel"
   ]
  },
  {
   "cell_type": "markdown",
   "metadata": {},
   "source": [
    "# UI"
   ]
  },
  {
   "cell_type": "code",
   "execution_count": 1,
   "metadata": {},
   "outputs": [
    {
     "name": "stdout",
     "output_type": "stream",
     "text": [
      "expose_to_js loaded\n",
      "0 1\n",
      "IN: py_socket1 DATA: OUT: pySocket1: test2\n",
      "0 1\n",
      "IN: py_socket1 DATA: OUT: pySocket1: test2\n",
      "IN: py_socket1 DATA: test2\n",
      "in dataX\n",
      "test2\n"
     ]
    },
    {
     "name": "stderr",
     "output_type": "stream",
     "text": [
      "KeyboardInterrupt\n",
      "2019-05-29T00:46:49Z\n"
     ]
    }
   ],
   "source": [
    "import eel\n",
    "import my_modules.expose_to_js\n",
    "\n",
    "\n",
    "my_options = {\n",
    "    'mode': \"chrome\", #or \"chrome-app\",\n",
    "    'host': 'localhost',\n",
    "    'port': 8080,\n",
    "}\n",
    "eel.init('web')\n",
    "eel.start('main.html', options=my_options, size=(100, 100))"
   ]
  },
  {
   "cell_type": "markdown",
   "metadata": {},
   "source": [
    "# Python Service Functions"
   ]
  },
  {
   "cell_type": "code",
   "execution_count": 4,
   "metadata": {},
   "outputs": [
    {
     "name": "stdout",
     "output_type": "stream",
     "text": [
      "test\n",
      "test2\n"
     ]
    }
   ],
   "source": [
    "from my_modules.expose_to_js import (test, test2)\n",
    "\n",
    "test()\n",
    "test2()"
   ]
  }
 ],
 "metadata": {
  "kernelspec": {
   "display_name": "Python 3",
   "language": "python",
   "name": "python3"
  },
  "language_info": {
   "codemirror_mode": {
    "name": "ipython",
    "version": 3
   },
   "file_extension": ".py",
   "mimetype": "text/x-python",
   "name": "python",
   "nbconvert_exporter": "python",
   "pygments_lexer": "ipython3",
   "version": "3.7.2"
  }
 },
 "nbformat": 4,
 "nbformat_minor": 2
}
