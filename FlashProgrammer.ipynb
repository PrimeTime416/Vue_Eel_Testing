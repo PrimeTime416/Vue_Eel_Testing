{
 "cells": [
  {
   "cell_type": "markdown",
   "metadata": {},
   "source": [
    "# Setup User Interface\n",
    "\n",
    "https://nitratine.net/blog/post/python-gui-using-chrome/"
   ]
  },
  {
   "cell_type": "code",
   "execution_count": null,
   "metadata": {},
   "outputs": [],
   "source": [
    "#!sudo pip3 install eel\n",
    "# !pip install eel"
   ]
  },
  {
   "cell_type": "markdown",
   "metadata": {},
   "source": [
    "# UI"
   ]
  },
  {
   "cell_type": "code",
   "execution_count": null,
   "metadata": {},
   "outputs": [
    {
     "name": "stdout",
     "output_type": "stream",
     "text": [
<<<<<<< HEAD
      "0 1\n",
      "1 2\n",
      "-1 0\n",
      "0 1\n",
      "1 2\n",
      "2 3\n",
      "3 4\n",
      "4 5\n",
      "5 6\n",
      "6 7\n",
      "IN: my_python_function: call javascript\n",
      "7 8\n",
      "8 9\n",
      "IN: my_python_function: call javascript\n",
      "7 8\n",
      "6 7\n",
      "IN: my_python_function: call javascript\n",
      "7 8\n",
      "8 9\n",
      "9 10\n",
      "10 11\n",
      "11 12\n",
      "12 13\n",
      "13 14\n",
      "14 15\n",
      "15 16\n",
      "16 17\n",
      "17 18\n",
      "0 1\n",
      "1 2\n",
      "2 3\n",
      "3 4\n",
      "4 5\n",
      "5 6\n",
      "6 7\n",
      "IN: my_python_function: call javascript\n",
      "7 8\n",
      "8 9\n",
      "9 10\n",
      "IN: my_python_function: call javascript\n",
      "7 8\n",
      "5 6\n",
      "3 4\n",
      "1 2\n",
      "2 3\n",
      "3 4\n",
      "4 5\n",
      "5 6\n",
      "6 7\n",
      "IN: my_python_function: call javascript\n",
      "7 8\n",
      "8 9\n",
      "9 10\n",
      "10 11\n",
      "11 12\n",
      "12 13\n",
      "13 14\n",
      "14 15\n",
      "15 16\n",
      "13 14\n",
      "11 12\n",
      "12 13\n",
      "13 14\n",
      "14 15\n",
      "15 16\n",
      "16 17\n",
      "15 16\n",
      "16 17\n",
      "17 18\n",
      "18 19\n"
=======
      "expose_to_js loaded\n",
      "0 1\n"
     ]
    },
    {
     "name": "stderr",
     "output_type": "stream",
     "text": [
      "KeyboardInterrupt\n",
      "2019-05-30T01:03:10Z\n"
>>>>>>> 4de0cf26b26a74cf685b0147c642a5e411890720
     ]
    }
   ],
   "source": [
    "import eel\n",
    "import my_modules.expose_to_js\n",
    "\n",
    "\n",
    "my_options = {\n",
    "    'mode': \"chrome\", #or \"chrome-app\",\n",
    "    'host': 'localhost',\n",
    "    'port': 8080,\n",
    "}\n",
    "eel.init('web')\n",
    "eel.start('main.html', options=my_options, size=(100, 100))"
   ]
  },
  {
   "cell_type": "markdown",
   "metadata": {},
   "source": [
    "# Python Service Functions\n",
    "\n",
    "Dealing with bytes and strings: https://medium.com/@andreacolangelo/strings-unicode-and-bytes-in-python-3-everything-you-always-wanted-to-know-27dc02ff2686\n",
    "\n",
    "Using Subprocessed: https://www.sharats.me/posts/the-ever-useful-and-neat-subprocess-module/"
   ]
  },
  {
   "cell_type": "code",
   "execution_count": 3,
   "metadata": {},
   "outputs": [
    {
     "name": "stdout",
     "output_type": "stream",
     "text": [
      "test\n",
      "test2\n"
     ]
    }
   ],
   "source": [
    "# Test functions\n",
    "from my_modules.expose_to_js import (test, test2)\n",
    "\n",
    "test()\n",
    "test2()"
   ]
  },
  {
   "cell_type": "markdown",
   "metadata": {},
   "source": [
    "## Bootloader:"
   ]
  },
  {
   "cell_type": "code",
   "execution_count": 25,
   "metadata": {},
   "outputs": [
    {
     "name": "stdout",
     "output_type": "stream",
     "text": [
      "/usr/bin/esptool\n",
      " Type: <class 'str'>\n",
      "/usr/bin/esptool\n",
      " Type: <class 'str'>\n",
      "Esptool installed = True\n"
     ]
    }
   ],
   "source": [
    "# Bootloader Test\n",
    "import subprocess\n",
    "\n",
    "esptool_location = '/usr/bin/esptool\\n'\n",
    "\n",
    "def esptoolCheck():\n",
    "    out_std = subprocess.check_output(['which', 'esptool'])\n",
    "#     out_std = subprocess.Popen(['which', 'esptool'], stdout=PIPE)\n",
    "    return out_std.decode('utf-8')\n",
    "\n",
    "esptoolCheck_out = esptoolCheck()\n",
    "\n",
    "\n",
    "print(f'{esptoolCheck_out} Type: {type(esptoolCheck_out)}')\n",
    "print(f'{esptool_location} Type: {type(esptool_location)}')\n",
    "print(f'Esptool installed = {esptool_location == esptoolCheck_out}')"
   ]
  }
 ],
 "metadata": {
  "kernelspec": {
   "display_name": "Python 3",
   "language": "python",
   "name": "python3"
  },
  "language_info": {
   "codemirror_mode": {
    "name": "ipython",
    "version": 3
   },
   "file_extension": ".py",
   "mimetype": "text/x-python",
   "name": "python",
   "nbconvert_exporter": "python",
   "pygments_lexer": "ipython3",
   "version": "3.5.3"
  }
 },
 "nbformat": 4,
 "nbformat_minor": 2
}
