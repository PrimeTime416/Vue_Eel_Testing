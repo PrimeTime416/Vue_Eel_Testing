{
 "cells": [
  {
   "cell_type": "markdown",
   "metadata": {
    "toc-hr-collapsed": false
   },
   "source": [
    "# General Purpus Microconroler Shell Scripting: GPSS"
   ]
  },
  {
   "cell_type": "markdown",
   "metadata": {
    "toc-hr-collapsed": false
   },
   "source": [
    "# Declarations:\n",
    "\n",
    "Declare all need scripting variables and functions to be used in the bash command line interface CLI."
   ]
  },
  {
   "cell_type": "code",
   "execution_count": 26,
   "metadata": {},
   "outputs": [],
   "source": [
    "ProjectName=''\n",
    "ProjectDir='/home/a1kerr/Sandbox/NativeScript/'\n",
    "Title='PrimeTime416'\n",
    "evalThis='ls -la'\n",
    "ls_l='ls'\n",
    "screen1='screen /dev/ttyUSB0 115200'\n",
    "\n",
    "directoryGo(){\n",
    "    cd $ProjectDir$ProjectName\n",
    "    pwd\n",
    "    $evalThis\n",
    "}\n",
    "\n",
    "\n",
    "evalGo(){\n",
    "    eval $(xterm -geometry 60x150+5+5 -hold -title $Title -e $ls_l)\n",
    "}"
   ]
  },
  {
   "cell_type": "markdown",
   "metadata": {},
   "source": [
    "## List Projects"
   ]
  },
  {
   "cell_type": "code",
   "execution_count": 21,
   "metadata": {},
   "outputs": [
    {
     "name": "stdout",
     "output_type": "stream",
     "text": [
      "/home/a1kerr/Sandbox/NativeScript\n",
      "total 696\n",
      "drwxrwxr-x  8 a1kerr a1kerr   4096 Apr 15 14:50 .\n",
      "drwxrwxr-x 17 a1kerr a1kerr   4096 May 25 14:46 ..\n",
      "drwxrwxr-x  8 a1kerr a1kerr   4096 Mar 18 20:55 AppVue1\n",
      "-rw-rw-r--  1 a1kerr a1kerr   1846 Mar 19 12:56 Bash_Play.ipynb\n",
      "drwxrwxr-x  3 a1kerr a1kerr   4096 Mar  8 21:05 Credentials\n",
      "drwxrwxr-x  2 a1kerr a1kerr   4096 Mar 24 22:28 .ipynb_checkpoints\n",
      "-rw-rw-r--  1 a1kerr a1kerr     16 Mar 20 20:29 me.sh\n",
      "drwxrwxr-x  8 a1kerr a1kerr   4096 Mar 18 22:13 MyApp1\n",
      "drwxrwxr-x 11 a1kerr a1kerr   4096 Mar 27 20:48 nativescript-oauth2-master\n",
      "-rw-rw-r--  1 a1kerr a1kerr 661191 Apr 15 14:50 NativescriptPlay.ipynb\n",
      "drwxrwxr-x  8 a1kerr a1kerr   4096 Mar 27 21:41 test\n",
      "-rw-rw-r--  1 a1kerr a1kerr   6408 Mar 25 19:55 Untilities.ipynb\n"
     ]
    }
   ],
   "source": [
    "directoryGo\n",
    "evalGo"
   ]
  },
  {
   "cell_type": "markdown",
   "metadata": {
    "toc-hr-collapsed": true
   },
   "source": [
    "### Set project name"
   ]
  },
  {
   "cell_type": "code",
   "execution_count": 3,
   "metadata": {},
   "outputs": [
    {
     "name": "stdout",
     "output_type": "stream",
     "text": [
      "/home/a1kerr/Sandbox/NativeScript/nativescript-oauth2-master/demo-vue\n",
      "total 348\n",
      "drwxrwxr-x  3 a1kerr a1kerr   4096 Mar 27 20:48 \u001b[0m\u001b[01;34m.\u001b[0m\n",
      "drwxrwxr-x 11 a1kerr a1kerr   4096 Mar 27 20:48 \u001b[01;34m..\u001b[0m\n",
      "drwxrwxr-x  6 a1kerr a1kerr   4096 Mar 27 20:48 \u001b[01;34mapp\u001b[0m\n",
      "-rw-rw-r--  1 a1kerr a1kerr    135 Mar  5 09:33 babel.config.js\n",
      "-rw-rw-r--  1 a1kerr a1kerr     96 Mar  5 09:33 .gitignore\n",
      "-rw-rw-r--  1 a1kerr a1kerr   1178 Mar  5 09:33 package.json\n",
      "-rw-rw-r--  1 a1kerr a1kerr 312295 Mar  5 09:33 package-lock.json\n",
      "-rw-rw-r--  1 a1kerr a1kerr    359 Mar  5 09:33 README.md\n",
      "-rw-rw-r--  1 a1kerr a1kerr  10050 Mar  5 09:33 webpack.config.js\n"
     ]
    }
   ],
   "source": [
    "ProjectName='nativescript-oauth2-master/demo-vue'\n",
    "directoryGo"
   ]
  },
  {
   "cell_type": "markdown",
   "metadata": {
    "toc-hr-collapsed": false
   },
   "source": [
    "# Techniques\n",
    "\n",
    "<hr>\n",
    "The following techniques can be used to make the GPSS:\n",
    "\n",
    "Bash eval: https://stackoverflow.com/questions/17674137/can-i-use-echo-to-execute-commands\n",
    "\n",
    "Xterm: https://askubuntu.com/questions/46627/how-can-i-make-a-script-that-opens-terminal-windows-and-executes-commands-in-the\n",
    "\n",
    "Bash Functions: https://linuxize.com/post/bash-functions/\n"
   ]
  },
  {
   "cell_type": "code",
   "execution_count": null,
   "metadata": {},
   "outputs": [],
   "source": [
    "ProjectName=''\n",
    "directoryGo\n",
    "ProjectName='test'\n",
    "# eval $(xterm -e vue init nativescript-vue/vue-cli-template $ProjectName)\n",
    "eval $(xterm -geometry 60x150+5+5 -hold -title 'GPSS' -e vue init nativescript-vue/vue-cli-template $ProjectName)\n",
    "directoryGo"
   ]
  },
  {
   "cell_type": "code",
   "execution_count": null,
   "metadata": {},
   "outputs": [],
   "source": [
    "ProjectName='demo-vue'\n",
    "directoryGo"
   ]
  },
  {
   "cell_type": "markdown",
   "metadata": {
    "toc-hr-collapsed": true
   },
   "source": [
    "## npm install dependencies"
   ]
  },
  {
   "cell_type": "code",
   "execution_count": 1,
   "metadata": {},
   "outputs": [
    {
     "name": "stdout",
     "output_type": "stream",
     "text": [
      "directoryGo: command not found\n"
     ]
    }
   ],
   "source": [
    "ProjectName='nativescript-oauth2-master/demo-vue'\n",
    "directoryGo\n",
    "\n",
    "eval $(xterm -geometry 60x150+5+5 -hold -title 'Vue Init' -e npm install)"
   ]
  },
  {
   "cell_type": "markdown",
   "metadata": {
    "toc-hr-collapsed": false
   },
   "source": [
    "## Run Application of target system"
   ]
  },
  {
   "cell_type": "markdown",
   "metadata": {
    "toc-hr-collapsed": true
   },
   "source": [
    "## Bundle"
   ]
  },
  {
   "cell_type": "code",
   "execution_count": 30,
   "metadata": {},
   "outputs": [
    {
     "name": "stdout",
     "output_type": "stream",
     "text": [
      "/home/a1kerr/Sandbox/NativeScript/nativescript-oauth2-master/demo-vue\n",
      "total 368\n",
      "drwxrwxr-x   7 a1kerr a1kerr   4096 Mar 27 21:56 .\n",
      "drwxrwxr-x  11 a1kerr a1kerr   4096 Mar 27 20:48 ..\n",
      "drwxrwxr-x   7 a1kerr a1kerr   4096 Mar 27 21:56 app\n",
      "-rw-rw-r--   1 a1kerr a1kerr    135 Mar  5 09:33 babel.config.js\n",
      "-rw-rw-r--   1 a1kerr a1kerr     96 Mar  5 09:33 .gitignore\n",
      "drwxrwxr-x  10 a1kerr a1kerr   4096 Mar 27 21:48 hooks\n",
      "drwxrwxr-x   2 a1kerr a1kerr   4096 Mar 27 21:56 .ipynb_checkpoints\n",
      "drwxrwxr-x 592 a1kerr a1kerr  20480 Mar 27 21:48 node_modules\n",
      "-rw-rw-r--   1 a1kerr a1kerr   1178 Mar 27 21:50 package.json\n",
      "-rw-rw-r--   1 a1kerr a1kerr 300248 Mar 27 21:48 package-lock.json\n",
      "drwxrwxr-x   4 a1kerr a1kerr   4096 Mar 27 21:50 platforms\n",
      "-rw-rw-r--   1 a1kerr a1kerr    359 Mar  5 09:33 README.md\n",
      "-rw-rw-r--   1 a1kerr a1kerr  10050 Mar  5 09:33 webpack.config.js\n"
     ]
    }
   ],
   "source": [
    "ProjectName='nativescript-oauth2-master/demo-vue'\n",
    "directoryGo\n",
    "eval $(xterm -geometry 60x150+5+5 -hold -title 'Vue Init' -e $screen1)\n"
   ]
  },
  {
   "cell_type": "markdown",
   "metadata": {
    "toc-hr-collapsed": true
   },
   "source": [
    "## HMR"
   ]
  },
  {
   "cell_type": "code",
   "execution_count": null,
   "metadata": {},
   "outputs": [],
   "source": [
    "ProjectName='demo-vue'\n",
    "directoryGo\n",
    "\n",
    "tns run android --hmr"
   ]
  },
  {
   "cell_type": "markdown",
   "metadata": {
    "toc-hr-collapsed": false
   },
   "source": [
    "## Debug"
   ]
  },
  {
   "cell_type": "code",
   "execution_count": null,
   "metadata": {},
   "outputs": [],
   "source": [
    "ProjectName='demo-vue'\n",
    "directoryGo\n",
    "\n",
    "tns debug android "
   ]
  },
  {
   "cell_type": "markdown",
   "metadata": {},
   "source": [
    "# Get Firmware"
   ]
  },
  {
   "cell_type": "code",
   "execution_count": null,
   "metadata": {},
   "outputs": [],
   "source": []
  }
 ],
 "metadata": {
  "kernelspec": {
   "display_name": "Python 3",
   "language": "python",
   "name": "python3"
  },
  "language_info": {
   "codemirror_mode": {
    "name": "ipython",
    "version": 3
   },
   "file_extension": ".py",
   "mimetype": "text/x-python",
   "name": "python",
   "nbconvert_exporter": "python",
   "pygments_lexer": "ipython3",
   "version": "3.7.2"
  },
  "toc-autonumbering": false,
  "toc-showcode": false,
  "toc-showmarkdowntxt": false,
  "toc-showtags": false
 },
 "nbformat": 4,
 "nbformat_minor": 2
}
